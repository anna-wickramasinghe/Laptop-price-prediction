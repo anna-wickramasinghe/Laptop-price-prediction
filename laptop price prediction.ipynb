{
 "cells": [
  {
   "cell_type": "code",
   "execution_count": 200,
   "id": "511af372",
   "metadata": {},
   "outputs": [],
   "source": [
    "import pandas as pd\n",
    "import numpy as np\n",
    "from matplotlib import pyplot as plt\n",
    "\n",
    "from keras.models import Sequential\n",
    "from keras.layers import Dense\n",
    "from keras.layers import Dropout"
   ]
  },
  {
   "cell_type": "code",
   "execution_count": 201,
   "id": "251b39c1",
   "metadata": {},
   "outputs": [
    {
     "data": {
      "text/html": [
       "<div>\n",
       "<style scoped>\n",
       "    .dataframe tbody tr th:only-of-type {\n",
       "        vertical-align: middle;\n",
       "    }\n",
       "\n",
       "    .dataframe tbody tr th {\n",
       "        vertical-align: top;\n",
       "    }\n",
       "\n",
       "    .dataframe thead th {\n",
       "        text-align: right;\n",
       "    }\n",
       "</style>\n",
       "<table border=\"1\" class=\"dataframe\">\n",
       "  <thead>\n",
       "    <tr style=\"text-align: right;\">\n",
       "      <th></th>\n",
       "      <th>Brand</th>\n",
       "      <th>Processor_Speed</th>\n",
       "      <th>RAM_Size</th>\n",
       "      <th>Storage_Capacity</th>\n",
       "      <th>Screen_Size</th>\n",
       "      <th>Weight</th>\n",
       "      <th>Price</th>\n",
       "    </tr>\n",
       "  </thead>\n",
       "  <tbody>\n",
       "    <tr>\n",
       "      <th>0</th>\n",
       "      <td>Asus</td>\n",
       "      <td>3.830296</td>\n",
       "      <td>16</td>\n",
       "      <td>512</td>\n",
       "      <td>11.185147</td>\n",
       "      <td>2.641094</td>\n",
       "      <td>17395.093065</td>\n",
       "    </tr>\n",
       "    <tr>\n",
       "      <th>1</th>\n",
       "      <td>Acer</td>\n",
       "      <td>2.912833</td>\n",
       "      <td>4</td>\n",
       "      <td>1000</td>\n",
       "      <td>11.311372</td>\n",
       "      <td>3.260012</td>\n",
       "      <td>31607.605919</td>\n",
       "    </tr>\n",
       "    <tr>\n",
       "      <th>2</th>\n",
       "      <td>Lenovo</td>\n",
       "      <td>3.241627</td>\n",
       "      <td>4</td>\n",
       "      <td>256</td>\n",
       "      <td>11.853023</td>\n",
       "      <td>2.029061</td>\n",
       "      <td>9291.023542</td>\n",
       "    </tr>\n",
       "    <tr>\n",
       "      <th>3</th>\n",
       "      <td>Acer</td>\n",
       "      <td>3.806248</td>\n",
       "      <td>16</td>\n",
       "      <td>512</td>\n",
       "      <td>12.280360</td>\n",
       "      <td>4.573865</td>\n",
       "      <td>17436.728334</td>\n",
       "    </tr>\n",
       "    <tr>\n",
       "      <th>4</th>\n",
       "      <td>Acer</td>\n",
       "      <td>3.268097</td>\n",
       "      <td>32</td>\n",
       "      <td>1000</td>\n",
       "      <td>14.990877</td>\n",
       "      <td>4.193472</td>\n",
       "      <td>32917.990718</td>\n",
       "    </tr>\n",
       "  </tbody>\n",
       "</table>\n",
       "</div>"
      ],
      "text/plain": [
       "    Brand  Processor_Speed  RAM_Size  Storage_Capacity  Screen_Size    Weight  \\\n",
       "0    Asus         3.830296        16               512    11.185147  2.641094   \n",
       "1    Acer         2.912833         4              1000    11.311372  3.260012   \n",
       "2  Lenovo         3.241627         4               256    11.853023  2.029061   \n",
       "3    Acer         3.806248        16               512    12.280360  4.573865   \n",
       "4    Acer         3.268097        32              1000    14.990877  4.193472   \n",
       "\n",
       "          Price  \n",
       "0  17395.093065  \n",
       "1  31607.605919  \n",
       "2   9291.023542  \n",
       "3  17436.728334  \n",
       "4  32917.990718  "
      ]
     },
     "execution_count": 201,
     "metadata": {},
     "output_type": "execute_result"
    }
   ],
   "source": [
    "df = pd.read_csv('Laptop_price.csv')\n",
    "df.head()"
   ]
  },
  {
   "cell_type": "code",
   "execution_count": 202,
   "id": "1646a4b8",
   "metadata": {},
   "outputs": [
    {
     "data": {
      "text/plain": [
       "(1000, 7)"
      ]
     },
     "execution_count": 202,
     "metadata": {},
     "output_type": "execute_result"
    }
   ],
   "source": [
    "df.shape"
   ]
  },
  {
   "cell_type": "markdown",
   "id": "c86e3720",
   "metadata": {},
   "source": [
    "checking if the dataset needed to e cleaned before preprocessing"
   ]
  },
  {
   "cell_type": "code",
   "execution_count": 203,
   "id": "54ec2a8e",
   "metadata": {},
   "outputs": [
    {
     "data": {
      "text/html": [
       "<div>\n",
       "<style scoped>\n",
       "    .dataframe tbody tr th:only-of-type {\n",
       "        vertical-align: middle;\n",
       "    }\n",
       "\n",
       "    .dataframe tbody tr th {\n",
       "        vertical-align: top;\n",
       "    }\n",
       "\n",
       "    .dataframe thead th {\n",
       "        text-align: right;\n",
       "    }\n",
       "</style>\n",
       "<table border=\"1\" class=\"dataframe\">\n",
       "  <thead>\n",
       "    <tr style=\"text-align: right;\">\n",
       "      <th></th>\n",
       "      <th>Processor_Speed</th>\n",
       "      <th>RAM_Size</th>\n",
       "      <th>Storage_Capacity</th>\n",
       "      <th>Screen_Size</th>\n",
       "      <th>Weight</th>\n",
       "      <th>Price</th>\n",
       "    </tr>\n",
       "    <tr>\n",
       "      <th>Brand</th>\n",
       "      <th></th>\n",
       "      <th></th>\n",
       "      <th></th>\n",
       "      <th></th>\n",
       "      <th></th>\n",
       "      <th></th>\n",
       "    </tr>\n",
       "  </thead>\n",
       "  <tbody>\n",
       "    <tr>\n",
       "      <th>Acer</th>\n",
       "      <td>204</td>\n",
       "      <td>204</td>\n",
       "      <td>204</td>\n",
       "      <td>204</td>\n",
       "      <td>204</td>\n",
       "      <td>204</td>\n",
       "    </tr>\n",
       "    <tr>\n",
       "      <th>Asus</th>\n",
       "      <td>206</td>\n",
       "      <td>206</td>\n",
       "      <td>206</td>\n",
       "      <td>206</td>\n",
       "      <td>206</td>\n",
       "      <td>206</td>\n",
       "    </tr>\n",
       "    <tr>\n",
       "      <th>Dell</th>\n",
       "      <td>210</td>\n",
       "      <td>210</td>\n",
       "      <td>210</td>\n",
       "      <td>210</td>\n",
       "      <td>210</td>\n",
       "      <td>210</td>\n",
       "    </tr>\n",
       "    <tr>\n",
       "      <th>HP</th>\n",
       "      <td>190</td>\n",
       "      <td>190</td>\n",
       "      <td>190</td>\n",
       "      <td>190</td>\n",
       "      <td>190</td>\n",
       "      <td>190</td>\n",
       "    </tr>\n",
       "    <tr>\n",
       "      <th>Lenovo</th>\n",
       "      <td>190</td>\n",
       "      <td>190</td>\n",
       "      <td>190</td>\n",
       "      <td>190</td>\n",
       "      <td>190</td>\n",
       "      <td>190</td>\n",
       "    </tr>\n",
       "  </tbody>\n",
       "</table>\n",
       "</div>"
      ],
      "text/plain": [
       "        Processor_Speed  RAM_Size  Storage_Capacity  Screen_Size  Weight  \\\n",
       "Brand                                                                      \n",
       "Acer                204       204               204          204     204   \n",
       "Asus                206       206               206          206     206   \n",
       "Dell                210       210               210          210     210   \n",
       "HP                  190       190               190          190     190   \n",
       "Lenovo              190       190               190          190     190   \n",
       "\n",
       "        Price  \n",
       "Brand          \n",
       "Acer      204  \n",
       "Asus      206  \n",
       "Dell      210  \n",
       "HP        190  \n",
       "Lenovo    190  "
      ]
     },
     "execution_count": 203,
     "metadata": {},
     "output_type": "execute_result"
    }
   ],
   "source": [
    "df.groupby(df['Brand']).count()"
   ]
  },
  {
   "cell_type": "code",
   "execution_count": 204,
   "id": "8e8deb06",
   "metadata": {},
   "outputs": [
    {
     "data": {
      "text/html": [
       "<div>\n",
       "<style scoped>\n",
       "    .dataframe tbody tr th:only-of-type {\n",
       "        vertical-align: middle;\n",
       "    }\n",
       "\n",
       "    .dataframe tbody tr th {\n",
       "        vertical-align: top;\n",
       "    }\n",
       "\n",
       "    .dataframe thead th {\n",
       "        text-align: right;\n",
       "    }\n",
       "</style>\n",
       "<table border=\"1\" class=\"dataframe\">\n",
       "  <thead>\n",
       "    <tr style=\"text-align: right;\">\n",
       "      <th></th>\n",
       "      <th>Brand</th>\n",
       "      <th>Processor_Speed</th>\n",
       "      <th>RAM_Size</th>\n",
       "      <th>Storage_Capacity</th>\n",
       "      <th>Screen_Size</th>\n",
       "      <th>Weight</th>\n",
       "      <th>Price</th>\n",
       "    </tr>\n",
       "  </thead>\n",
       "  <tbody>\n",
       "    <tr>\n",
       "      <th>0</th>\n",
       "      <td>1</td>\n",
       "      <td>3.830296</td>\n",
       "      <td>16</td>\n",
       "      <td>512</td>\n",
       "      <td>11.185147</td>\n",
       "      <td>2.641094</td>\n",
       "      <td>17395.093065</td>\n",
       "    </tr>\n",
       "    <tr>\n",
       "      <th>1</th>\n",
       "      <td>0</td>\n",
       "      <td>2.912833</td>\n",
       "      <td>4</td>\n",
       "      <td>1000</td>\n",
       "      <td>11.311372</td>\n",
       "      <td>3.260012</td>\n",
       "      <td>31607.605919</td>\n",
       "    </tr>\n",
       "    <tr>\n",
       "      <th>2</th>\n",
       "      <td>4</td>\n",
       "      <td>3.241627</td>\n",
       "      <td>4</td>\n",
       "      <td>256</td>\n",
       "      <td>11.853023</td>\n",
       "      <td>2.029061</td>\n",
       "      <td>9291.023542</td>\n",
       "    </tr>\n",
       "    <tr>\n",
       "      <th>3</th>\n",
       "      <td>0</td>\n",
       "      <td>3.806248</td>\n",
       "      <td>16</td>\n",
       "      <td>512</td>\n",
       "      <td>12.280360</td>\n",
       "      <td>4.573865</td>\n",
       "      <td>17436.728334</td>\n",
       "    </tr>\n",
       "    <tr>\n",
       "      <th>4</th>\n",
       "      <td>0</td>\n",
       "      <td>3.268097</td>\n",
       "      <td>32</td>\n",
       "      <td>1000</td>\n",
       "      <td>14.990877</td>\n",
       "      <td>4.193472</td>\n",
       "      <td>32917.990718</td>\n",
       "    </tr>\n",
       "  </tbody>\n",
       "</table>\n",
       "</div>"
      ],
      "text/plain": [
       "   Brand  Processor_Speed  RAM_Size  Storage_Capacity  Screen_Size    Weight  \\\n",
       "0      1         3.830296        16               512    11.185147  2.641094   \n",
       "1      0         2.912833         4              1000    11.311372  3.260012   \n",
       "2      4         3.241627         4               256    11.853023  2.029061   \n",
       "3      0         3.806248        16               512    12.280360  4.573865   \n",
       "4      0         3.268097        32              1000    14.990877  4.193472   \n",
       "\n",
       "          Price  \n",
       "0  17395.093065  \n",
       "1  31607.605919  \n",
       "2   9291.023542  \n",
       "3  17436.728334  \n",
       "4  32917.990718  "
      ]
     },
     "execution_count": 204,
     "metadata": {},
     "output_type": "execute_result"
    }
   ],
   "source": [
    "category_array = df['Brand']\n",
    "unique_categories = np.unique(category_array)\n",
    "category_mapping = dict(zip(unique_categories, range(len(unique_categories))))\n",
    "category_array = np.searchsorted(unique_categories, category_array)\n",
    "\n",
    "df['Brand'] = category_array\n",
    "df.head()"
   ]
  },
  {
   "cell_type": "code",
   "execution_count": 205,
   "id": "6c267d05",
   "metadata": {},
   "outputs": [
    {
     "data": {
      "text/plain": [
       "{'Acer': 0, 'Asus': 1, 'Dell': 2, 'HP': 3, 'Lenovo': 4}"
      ]
     },
     "execution_count": 205,
     "metadata": {},
     "output_type": "execute_result"
    }
   ],
   "source": [
    "category_mapping"
   ]
  },
  {
   "cell_type": "code",
   "execution_count": 206,
   "id": "1fe46988",
   "metadata": {},
   "outputs": [
    {
     "data": {
      "text/plain": [
       "Brand               0\n",
       "Processor_Speed     0\n",
       "RAM_Size            0\n",
       "Storage_Capacity    0\n",
       "Screen_Size         0\n",
       "Weight              0\n",
       "Price               0\n",
       "dtype: int64"
      ]
     },
     "execution_count": 206,
     "metadata": {},
     "output_type": "execute_result"
    }
   ],
   "source": [
    "df.isna().sum()"
   ]
  },
  {
   "cell_type": "code",
   "execution_count": 207,
   "id": "78a804ae",
   "metadata": {},
   "outputs": [
    {
     "data": {
      "text/plain": [
       "0"
      ]
     },
     "execution_count": 207,
     "metadata": {},
     "output_type": "execute_result"
    }
   ],
   "source": [
    "df.duplicated().sum()"
   ]
  },
  {
   "cell_type": "code",
   "execution_count": 208,
   "id": "2dfa8e42",
   "metadata": {},
   "outputs": [],
   "source": [
    "dataset = df.values\n",
    "data = dataset[:,0:6]\n",
    "target = dataset[:,6]\n",
    "target = np.reshape(target,(-1,1))"
   ]
  },
  {
   "cell_type": "markdown",
   "id": "7a5582d9",
   "metadata": {},
   "source": [
    "Scaling"
   ]
  },
  {
   "cell_type": "code",
   "execution_count": 209,
   "id": "899af44b",
   "metadata": {},
   "outputs": [],
   "source": [
    "from sklearn.preprocessing import MinMaxScaler\n",
    "\n",
    "scaler_data = MinMaxScaler()\n",
    "scaler_target = MinMaxScaler()\n",
    "\n",
    "data_scaled = scaler_data.fit_transform(data)\n",
    "target_scaled = scaler_target.fit_transform(target)"
   ]
  },
  {
   "cell_type": "markdown",
   "id": "42bc1b20",
   "metadata": {},
   "source": [
    "building model"
   ]
  },
  {
   "cell_type": "code",
   "execution_count": 210,
   "id": "bf87c7c9",
   "metadata": {},
   "outputs": [
    {
     "name": "stdout",
     "output_type": "stream",
     "text": [
      "Model: \"sequential_8\"\n",
      "_________________________________________________________________\n",
      " Layer (type)                Output Shape              Param #   \n",
      "=================================================================\n",
      " dense_40 (Dense)            (None, 60)                420       \n",
      "                                                                 \n",
      " dense_41 (Dense)            (None, 120)               7320      \n",
      "                                                                 \n",
      " dropout_21 (Dropout)        (None, 120)               0         \n",
      "                                                                 \n",
      " dense_42 (Dense)            (None, 120)               14520     \n",
      "                                                                 \n",
      " dropout_22 (Dropout)        (None, 120)               0         \n",
      "                                                                 \n",
      " dense_43 (Dense)            (None, 60)                7260      \n",
      "                                                                 \n",
      " dropout_23 (Dropout)        (None, 60)                0         \n",
      "                                                                 \n",
      " dense_44 (Dense)            (None, 10)                610       \n",
      "                                                                 \n",
      " dense_45 (Dense)            (None, 1)                 11        \n",
      "                                                                 \n",
      "=================================================================\n",
      "Total params: 30,141\n",
      "Trainable params: 30,141\n",
      "Non-trainable params: 0\n",
      "_________________________________________________________________\n"
     ]
    }
   ],
   "source": [
    "model = Sequential()\n",
    "\n",
    "model.add(Dense(60, input_dim=6, activation='relu'))\n",
    "model.add(Dense(120, activation='relu'))\n",
    "model.add(Dropout(0.15))\n",
    "model.add(Dense(120, activation='tanh'))\n",
    "model.add(Dropout(0.25))\n",
    "model.add(Dense(60, activation='relu'))\n",
    "model.add(Dropout(0.025))\n",
    "model.add(Dense(10, activation='relu'))\n",
    "model.add(Dense(1, activation='linear'))\n",
    "\n",
    "model.compile(optimizer='adam', loss='mse', metrics=['mse'])\n",
    "\n",
    "model.summary()"
   ]
  },
  {
   "cell_type": "markdown",
   "id": "8d73a47d",
   "metadata": {},
   "source": [
    "trainning"
   ]
  },
  {
   "cell_type": "code",
   "execution_count": 211,
   "id": "ea524f52",
   "metadata": {},
   "outputs": [],
   "source": [
    "from keras.callbacks import ModelCheckpoint\n",
    "checkpoint_path = \"models/model-{epoch:03d}.model\"\n",
    "\n",
    "checkpoint = ModelCheckpoint(checkpoint_path, monitor='val_loss',save_best_only=True,mode='auto')"
   ]
  },
  {
   "cell_type": "code",
   "execution_count": 212,
   "id": "1a25bf22",
   "metadata": {},
   "outputs": [],
   "source": [
    "from sklearn.model_selection import train_test_split\n",
    "train_data, test_data,  train_target, test_target = train_test_split(data_scaled,target_scaled,test_size=0.1) "
   ]
  },
  {
   "cell_type": "code",
   "execution_count": 213,
   "id": "4bcc4beb",
   "metadata": {
    "scrolled": true
   },
   "outputs": [
    {
     "name": "stdout",
     "output_type": "stream",
     "text": [
      "Epoch 1/65\n",
      "29/29 [==============================] - ETA: 0s - loss: 0.0512 - mse: 0.0512"
     ]
    },
    {
     "name": "stderr",
     "output_type": "stream",
     "text": [
      "WARNING:absl:Found untraced functions such as _update_step_xla while saving (showing 1 of 1). These functions will not be directly callable after loading.\n"
     ]
    },
    {
     "name": "stdout",
     "output_type": "stream",
     "text": [
      "INFO:tensorflow:Assets written to: models\\model-001.model\\assets\n"
     ]
    },
    {
     "name": "stderr",
     "output_type": "stream",
     "text": [
      "INFO:tensorflow:Assets written to: models\\model-001.model\\assets\n"
     ]
    },
    {
     "name": "stdout",
     "output_type": "stream",
     "text": [
      "29/29 [==============================] - 15s 288ms/step - loss: 0.0512 - mse: 0.0512 - val_loss: 0.0047 - val_mse: 0.0047\n",
      "Epoch 2/65\n",
      "28/29 [===========================>..] - ETA: 0s - loss: 0.0107 - mse: 0.0107"
     ]
    },
    {
     "name": "stderr",
     "output_type": "stream",
     "text": [
      "WARNING:absl:Found untraced functions such as _update_step_xla while saving (showing 1 of 1). These functions will not be directly callable after loading.\n"
     ]
    },
    {
     "name": "stdout",
     "output_type": "stream",
     "text": [
      "INFO:tensorflow:Assets written to: models\\model-002.model\\assets\n"
     ]
    },
    {
     "name": "stderr",
     "output_type": "stream",
     "text": [
      "INFO:tensorflow:Assets written to: models\\model-002.model\\assets\n"
     ]
    },
    {
     "name": "stdout",
     "output_type": "stream",
     "text": [
      "29/29 [==============================] - 6s 229ms/step - loss: 0.0107 - mse: 0.0107 - val_loss: 0.0017 - val_mse: 0.0017\n",
      "Epoch 3/65\n",
      "29/29 [==============================] - 1s 21ms/step - loss: 0.0077 - mse: 0.0077 - val_loss: 0.0017 - val_mse: 0.0017\n",
      "Epoch 4/65\n",
      "29/29 [==============================] - 1s 17ms/step - loss: 0.0070 - mse: 0.0070 - val_loss: 0.0041 - val_mse: 0.0041\n",
      "Epoch 5/65\n",
      "26/29 [=========================>....] - ETA: 0s - loss: 0.0077 - mse: 0.0077"
     ]
    },
    {
     "name": "stderr",
     "output_type": "stream",
     "text": [
      "WARNING:absl:Found untraced functions such as _update_step_xla while saving (showing 1 of 1). These functions will not be directly callable after loading.\n"
     ]
    },
    {
     "name": "stdout",
     "output_type": "stream",
     "text": [
      "INFO:tensorflow:Assets written to: models\\model-005.model\\assets\n"
     ]
    },
    {
     "name": "stderr",
     "output_type": "stream",
     "text": [
      "INFO:tensorflow:Assets written to: models\\model-005.model\\assets\n"
     ]
    },
    {
     "name": "stdout",
     "output_type": "stream",
     "text": [
      "29/29 [==============================] - 10s 371ms/step - loss: 0.0076 - mse: 0.0076 - val_loss: 0.0014 - val_mse: 0.0014\n",
      "Epoch 6/65\n",
      "29/29 [==============================] - 1s 18ms/step - loss: 0.0061 - mse: 0.0061 - val_loss: 0.0014 - val_mse: 0.0014\n",
      "Epoch 7/65\n",
      "28/29 [===========================>..] - ETA: 0s - loss: 0.0059 - mse: 0.0059"
     ]
    },
    {
     "name": "stderr",
     "output_type": "stream",
     "text": [
      "WARNING:absl:Found untraced functions such as _update_step_xla while saving (showing 1 of 1). These functions will not be directly callable after loading.\n"
     ]
    },
    {
     "name": "stdout",
     "output_type": "stream",
     "text": [
      "INFO:tensorflow:Assets written to: models\\model-007.model\\assets\n"
     ]
    },
    {
     "name": "stderr",
     "output_type": "stream",
     "text": [
      "INFO:tensorflow:Assets written to: models\\model-007.model\\assets\n"
     ]
    },
    {
     "name": "stdout",
     "output_type": "stream",
     "text": [
      "29/29 [==============================] - 6s 219ms/step - loss: 0.0059 - mse: 0.0059 - val_loss: 5.6647e-04 - val_mse: 5.6647e-04\n",
      "Epoch 8/65\n",
      "29/29 [==============================] - 1s 18ms/step - loss: 0.0046 - mse: 0.0046 - val_loss: 5.8214e-04 - val_mse: 5.8214e-04\n",
      "Epoch 9/65\n",
      "27/29 [==========================>...] - ETA: 0s - loss: 0.0047 - mse: 0.0047"
     ]
    },
    {
     "name": "stderr",
     "output_type": "stream",
     "text": [
      "WARNING:absl:Found untraced functions such as _update_step_xla while saving (showing 1 of 1). These functions will not be directly callable after loading.\n"
     ]
    },
    {
     "name": "stdout",
     "output_type": "stream",
     "text": [
      "INFO:tensorflow:Assets written to: models\\model-009.model\\assets\n"
     ]
    },
    {
     "name": "stderr",
     "output_type": "stream",
     "text": [
      "INFO:tensorflow:Assets written to: models\\model-009.model\\assets\n"
     ]
    },
    {
     "name": "stdout",
     "output_type": "stream",
     "text": [
      "29/29 [==============================] - 7s 251ms/step - loss: 0.0048 - mse: 0.0048 - val_loss: 3.9917e-04 - val_mse: 3.9917e-04\n",
      "Epoch 10/65\n",
      "29/29 [==============================] - ETA: 0s - loss: 0.0049 - mse: 0.0049"
     ]
    },
    {
     "name": "stderr",
     "output_type": "stream",
     "text": [
      "WARNING:absl:Found untraced functions such as _update_step_xla while saving (showing 1 of 1). These functions will not be directly callable after loading.\n"
     ]
    },
    {
     "name": "stdout",
     "output_type": "stream",
     "text": [
      "INFO:tensorflow:Assets written to: models\\model-010.model\\assets\n"
     ]
    },
    {
     "name": "stderr",
     "output_type": "stream",
     "text": [
      "INFO:tensorflow:Assets written to: models\\model-010.model\\assets\n"
     ]
    },
    {
     "name": "stdout",
     "output_type": "stream",
     "text": [
      "29/29 [==============================] - 7s 247ms/step - loss: 0.0049 - mse: 0.0049 - val_loss: 3.6270e-04 - val_mse: 3.6270e-04\n",
      "Epoch 11/65\n",
      "29/29 [==============================] - 1s 38ms/step - loss: 0.0038 - mse: 0.0038 - val_loss: 4.5585e-04 - val_mse: 4.5585e-04\n",
      "Epoch 12/65\n",
      "29/29 [==============================] - 1s 33ms/step - loss: 0.0037 - mse: 0.0037 - val_loss: 0.0012 - val_mse: 0.0012\n",
      "Epoch 13/65\n",
      "29/29 [==============================] - 1s 20ms/step - loss: 0.0036 - mse: 0.0036 - val_loss: 0.0011 - val_mse: 0.0011\n",
      "Epoch 14/65\n",
      "29/29 [==============================] - 1s 21ms/step - loss: 0.0033 - mse: 0.0033 - val_loss: 7.9411e-04 - val_mse: 7.9411e-04\n",
      "Epoch 15/65\n",
      "29/29 [==============================] - 1s 18ms/step - loss: 0.0035 - mse: 0.0035 - val_loss: 7.3561e-04 - val_mse: 7.3561e-04\n",
      "Epoch 16/65\n",
      "29/29 [==============================] - 1s 17ms/step - loss: 0.0032 - mse: 0.0032 - val_loss: 3.8402e-04 - val_mse: 3.8402e-04\n",
      "Epoch 17/65\n",
      "29/29 [==============================] - 1s 18ms/step - loss: 0.0034 - mse: 0.0034 - val_loss: 0.0017 - val_mse: 0.0017\n",
      "Epoch 18/65\n",
      "29/29 [==============================] - 1s 19ms/step - loss: 0.0028 - mse: 0.0028 - val_loss: 9.1388e-04 - val_mse: 9.1388e-04\n",
      "Epoch 19/65\n",
      "29/29 [==============================] - 1s 19ms/step - loss: 0.0030 - mse: 0.0030 - val_loss: 7.8793e-04 - val_mse: 7.8793e-04\n",
      "Epoch 20/65\n",
      "29/29 [==============================] - 1s 19ms/step - loss: 0.0024 - mse: 0.0024 - val_loss: 5.2688e-04 - val_mse: 5.2688e-04\n",
      "Epoch 21/65\n",
      "29/29 [==============================] - 1s 18ms/step - loss: 0.0022 - mse: 0.0022 - val_loss: 8.1588e-04 - val_mse: 8.1588e-04\n",
      "Epoch 22/65\n",
      "29/29 [==============================] - 1s 33ms/step - loss: 0.0025 - mse: 0.0025 - val_loss: 0.0018 - val_mse: 0.0018\n",
      "Epoch 23/65\n",
      "29/29 [==============================] - 1s 36ms/step - loss: 0.0022 - mse: 0.0022 - val_loss: 0.0013 - val_mse: 0.0013\n",
      "Epoch 24/65\n",
      "29/29 [==============================] - 1s 32ms/step - loss: 0.0023 - mse: 0.0023 - val_loss: 4.4870e-04 - val_mse: 4.4870e-04\n",
      "Epoch 25/65\n",
      "29/29 [==============================] - 1s 19ms/step - loss: 0.0025 - mse: 0.0025 - val_loss: 5.5514e-04 - val_mse: 5.5514e-04\n",
      "Epoch 26/65\n",
      "29/29 [==============================] - 1s 17ms/step - loss: 0.0022 - mse: 0.0022 - val_loss: 0.0015 - val_mse: 0.0015\n",
      "Epoch 27/65\n",
      "29/29 [==============================] - 1s 18ms/step - loss: 0.0021 - mse: 0.0021 - val_loss: 4.4219e-04 - val_mse: 4.4219e-04\n",
      "Epoch 28/65\n",
      "29/29 [==============================] - 1s 17ms/step - loss: 0.0024 - mse: 0.0024 - val_loss: 0.0011 - val_mse: 0.0011\n",
      "Epoch 29/65\n",
      "26/29 [=========================>....] - ETA: 0s - loss: 0.0019 - mse: 0.0019"
     ]
    },
    {
     "name": "stderr",
     "output_type": "stream",
     "text": [
      "WARNING:absl:Found untraced functions such as _update_step_xla while saving (showing 1 of 1). These functions will not be directly callable after loading.\n"
     ]
    },
    {
     "name": "stdout",
     "output_type": "stream",
     "text": [
      "INFO:tensorflow:Assets written to: models\\model-029.model\\assets\n"
     ]
    },
    {
     "name": "stderr",
     "output_type": "stream",
     "text": [
      "INFO:tensorflow:Assets written to: models\\model-029.model\\assets\n"
     ]
    },
    {
     "name": "stdout",
     "output_type": "stream",
     "text": [
      "29/29 [==============================] - 7s 238ms/step - loss: 0.0019 - mse: 0.0019 - val_loss: 3.5507e-04 - val_mse: 3.5507e-04\n",
      "Epoch 30/65\n",
      "29/29 [==============================] - 1s 24ms/step - loss: 0.0019 - mse: 0.0019 - val_loss: 0.0013 - val_mse: 0.0013\n",
      "Epoch 31/65\n",
      "28/29 [===========================>..] - ETA: 0s - loss: 0.0019 - mse: 0.0019"
     ]
    },
    {
     "name": "stderr",
     "output_type": "stream",
     "text": [
      "WARNING:absl:Found untraced functions such as _update_step_xla while saving (showing 1 of 1). These functions will not be directly callable after loading.\n"
     ]
    },
    {
     "name": "stdout",
     "output_type": "stream",
     "text": [
      "INFO:tensorflow:Assets written to: models\\model-031.model\\assets\n"
     ]
    },
    {
     "name": "stderr",
     "output_type": "stream",
     "text": [
      "INFO:tensorflow:Assets written to: models\\model-031.model\\assets\n"
     ]
    },
    {
     "name": "stdout",
     "output_type": "stream",
     "text": [
      "29/29 [==============================] - 8s 286ms/step - loss: 0.0019 - mse: 0.0019 - val_loss: 2.9032e-04 - val_mse: 2.9032e-04\n",
      "Epoch 32/65\n",
      "29/29 [==============================] - 1s 23ms/step - loss: 0.0019 - mse: 0.0019 - val_loss: 3.9872e-04 - val_mse: 3.9872e-04\n",
      "Epoch 33/65\n",
      "29/29 [==============================] - 0s 17ms/step - loss: 0.0018 - mse: 0.0018 - val_loss: 0.0012 - val_mse: 0.0012\n",
      "Epoch 34/65\n",
      "29/29 [==============================] - 0s 16ms/step - loss: 0.0015 - mse: 0.0015 - val_loss: 0.0011 - val_mse: 0.0011\n",
      "Epoch 35/65\n",
      "29/29 [==============================] - 1s 17ms/step - loss: 0.0014 - mse: 0.0014 - val_loss: 4.9648e-04 - val_mse: 4.9648e-04\n",
      "Epoch 36/65\n",
      "29/29 [==============================] - 1s 17ms/step - loss: 0.0015 - mse: 0.0015 - val_loss: 0.0022 - val_mse: 0.0022\n",
      "Epoch 37/65\n",
      "29/29 [==============================] - 1s 18ms/step - loss: 0.0020 - mse: 0.0020 - val_loss: 6.4823e-04 - val_mse: 6.4823e-04\n",
      "Epoch 38/65\n",
      "29/29 [==============================] - 1s 17ms/step - loss: 0.0015 - mse: 0.0015 - val_loss: 0.0012 - val_mse: 0.0012\n",
      "Epoch 39/65\n",
      "29/29 [==============================] - 1s 18ms/step - loss: 0.0017 - mse: 0.0017 - val_loss: 0.0025 - val_mse: 0.0025\n",
      "Epoch 40/65\n",
      "29/29 [==============================] - 1s 29ms/step - loss: 0.0017 - mse: 0.0017 - val_loss: 4.8323e-04 - val_mse: 4.8323e-04\n",
      "Epoch 41/65\n",
      "26/29 [=========================>....] - ETA: 0s - loss: 0.0014 - mse: 0.0014   "
     ]
    },
    {
     "name": "stderr",
     "output_type": "stream",
     "text": [
      "WARNING:absl:Found untraced functions such as _update_step_xla while saving (showing 1 of 1). These functions will not be directly callable after loading.\n"
     ]
    },
    {
     "name": "stdout",
     "output_type": "stream",
     "text": [
      "INFO:tensorflow:Assets written to: models\\model-041.model\\assets\n"
     ]
    },
    {
     "name": "stderr",
     "output_type": "stream",
     "text": [
      "INFO:tensorflow:Assets written to: models\\model-041.model\\assets\n"
     ]
    },
    {
     "name": "stdout",
     "output_type": "stream",
     "text": [
      "29/29 [==============================] - 7s 232ms/step - loss: 0.0014 - mse: 0.0014 - val_loss: 2.7912e-04 - val_mse: 2.7912e-04\n",
      "Epoch 42/65\n",
      "29/29 [==============================] - 1s 19ms/step - loss: 0.0016 - mse: 0.0016 - val_loss: 4.2437e-04 - val_mse: 4.2437e-04\n",
      "Epoch 43/65\n",
      "29/29 [==============================] - 1s 21ms/step - loss: 0.0013 - mse: 0.0013 - val_loss: 8.1225e-04 - val_mse: 8.1225e-04\n",
      "Epoch 44/65\n",
      "29/29 [==============================] - 0s 17ms/step - loss: 0.0016 - mse: 0.0016 - val_loss: 4.3953e-04 - val_mse: 4.3953e-04\n",
      "Epoch 45/65\n",
      "29/29 [==============================] - 1s 17ms/step - loss: 0.0015 - mse: 0.0015 - val_loss: 0.0015 - val_mse: 0.0015\n",
      "Epoch 46/65\n",
      "29/29 [==============================] - 1s 17ms/step - loss: 0.0012 - mse: 0.0012 - val_loss: 0.0011 - val_mse: 0.0011\n",
      "Epoch 47/65\n",
      "29/29 [==============================] - 1s 17ms/step - loss: 0.0013 - mse: 0.0013 - val_loss: 9.5097e-04 - val_mse: 9.5097e-04\n",
      "Epoch 48/65\n",
      "29/29 [==============================] - 1s 34ms/step - loss: 0.0015 - mse: 0.0015 - val_loss: 0.0018 - val_mse: 0.0018\n",
      "Epoch 49/65\n",
      "29/29 [==============================] - ETA: 0s - loss: 0.0012 - mse: 0.0012"
     ]
    },
    {
     "name": "stderr",
     "output_type": "stream",
     "text": [
      "WARNING:absl:Found untraced functions such as _update_step_xla while saving (showing 1 of 1). These functions will not be directly callable after loading.\n"
     ]
    },
    {
     "name": "stdout",
     "output_type": "stream",
     "text": [
      "INFO:tensorflow:Assets written to: models\\model-049.model\\assets\n"
     ]
    },
    {
     "name": "stderr",
     "output_type": "stream",
     "text": [
      "INFO:tensorflow:Assets written to: models\\model-049.model\\assets\n"
     ]
    },
    {
     "name": "stdout",
     "output_type": "stream",
     "text": [
      "29/29 [==============================] - 7s 239ms/step - loss: 0.0012 - mse: 0.0012 - val_loss: 2.3663e-04 - val_mse: 2.3663e-04\n",
      "Epoch 50/65\n",
      "29/29 [==============================] - 1s 24ms/step - loss: 0.0012 - mse: 0.0012 - val_loss: 0.0011 - val_mse: 0.0011\n",
      "Epoch 51/65\n",
      "29/29 [==============================] - 1s 25ms/step - loss: 0.0011 - mse: 0.0011 - val_loss: 5.3174e-04 - val_mse: 5.3174e-04\n",
      "Epoch 52/65\n",
      "29/29 [==============================] - 1s 38ms/step - loss: 0.0013 - mse: 0.0013 - val_loss: 5.8122e-04 - val_mse: 5.8122e-04\n",
      "Epoch 53/65\n",
      "29/29 [==============================] - 1s 19ms/step - loss: 0.0012 - mse: 0.0012 - val_loss: 0.0012 - val_mse: 0.0012\n",
      "Epoch 54/65\n",
      "29/29 [==============================] - 1s 18ms/step - loss: 0.0012 - mse: 0.0012 - val_loss: 4.9908e-04 - val_mse: 4.9908e-04\n",
      "Epoch 55/65\n",
      "29/29 [==============================] - 0s 17ms/step - loss: 0.0010 - mse: 0.0010 - val_loss: 3.4045e-04 - val_mse: 3.4045e-04\n",
      "Epoch 56/65\n",
      "29/29 [==============================] - 1s 17ms/step - loss: 9.4545e-04 - mse: 9.4545e-04 - val_loss: 7.6558e-04 - val_mse: 7.6558e-04\n",
      "Epoch 57/65\n",
      "29/29 [==============================] - 1s 17ms/step - loss: 0.0011 - mse: 0.0011 - val_loss: 4.2878e-04 - val_mse: 4.2878e-04\n",
      "Epoch 58/65\n",
      "29/29 [==============================] - 0s 17ms/step - loss: 0.0012 - mse: 0.0012 - val_loss: 0.0018 - val_mse: 0.0018\n",
      "Epoch 59/65\n",
      "29/29 [==============================] - 1s 17ms/step - loss: 0.0015 - mse: 0.0015 - val_loss: 0.0011 - val_mse: 0.0011\n",
      "Epoch 60/65\n",
      "29/29 [==============================] - 1s 18ms/step - loss: 0.0012 - mse: 0.0012 - val_loss: 4.5185e-04 - val_mse: 4.5185e-04\n",
      "Epoch 61/65\n",
      "29/29 [==============================] - 1s 18ms/step - loss: 9.7159e-04 - mse: 9.7159e-04 - val_loss: 5.6704e-04 - val_mse: 5.6704e-04\n",
      "Epoch 62/65\n",
      "29/29 [==============================] - 1s 27ms/step - loss: 9.4051e-04 - mse: 9.4051e-04 - val_loss: 3.1097e-04 - val_mse: 3.1097e-04\n",
      "Epoch 63/65\n",
      "29/29 [==============================] - 1s 22ms/step - loss: 9.3088e-04 - mse: 9.3088e-04 - val_loss: 0.0011 - val_mse: 0.0011\n",
      "Epoch 64/65\n",
      "29/29 [==============================] - 1s 18ms/step - loss: 9.9205e-04 - mse: 9.9205e-04 - val_loss: 6.3836e-04 - val_mse: 6.3836e-04\n",
      "Epoch 65/65\n",
      "27/29 [==========================>...] - ETA: 0s - loss: 9.1356e-04 - mse: 9.1356e-04"
     ]
    },
    {
     "name": "stderr",
     "output_type": "stream",
     "text": [
      "WARNING:absl:Found untraced functions such as _update_step_xla while saving (showing 1 of 1). These functions will not be directly callable after loading.\n"
     ]
    },
    {
     "name": "stdout",
     "output_type": "stream",
     "text": [
      "INFO:tensorflow:Assets written to: models\\model-065.model\\assets\n"
     ]
    },
    {
     "name": "stderr",
     "output_type": "stream",
     "text": [
      "INFO:tensorflow:Assets written to: models\\model-065.model\\assets\n"
     ]
    },
    {
     "name": "stdout",
     "output_type": "stream",
     "text": [
      "\b\b\b\b\b\b\b\b\b\b\b\b\b\b\b\b\b\b\b\b\b\b\b\b\b\b\b\b\b\b\b\b\b\b\b\b\b\b\b\b\b\b\b\b\b\b\b\b\b\b\b\b\b\b\b\b\b\b\b\b\b\b\b\b\b\b\b\b\b\b\b\b\b\b\b\b\b\b\b\b\b\b\b\b\b\r",
      "29/29 [==============================] - 7s 240ms/step - loss: 9.1061e-04 - mse: 9.1061e-04 - val_loss: 1.7824e-04 - val_mse: 1.7824e-04\n"
     ]
    }
   ],
   "source": [
    "history = model.fit(train_data, train_target, epochs=65, validation_data=(test_data, test_target), callbacks=[checkpoint])"
   ]
  },
  {
   "cell_type": "code",
   "execution_count": 214,
   "id": "a4794566",
   "metadata": {},
   "outputs": [
    {
     "data": {
      "image/png": "[encoded data removed]",
      "text/plain": [
       "<Figure size 640x480 with 1 Axes>"
      ]
     },
     "metadata": {},
     "output_type": "display_data"
    }
   ],
   "source": [
    "plt.plot(model.history.history['loss'], label='loss')\n",
    "plt.plot(model.history.history['val_loss'], label='val_loss')\n",
    "plt.legend()\n",
    "plt.xlabel('Epochs')\n",
    "plt.ylabel('loss')\n",
    "plt.show()"
   ]
  },
  {
   "cell_type": "markdown",
   "id": "6b8b24ea",
   "metadata": {},
   "source": [
    "R2 Score"
   ]
  },
  {
   "cell_type": "code",
   "execution_count": 223,
   "id": "c4b8938d",
   "metadata": {},
   "outputs": [
    {
     "name": "stdout",
     "output_type": "stream",
     "text": [
      "4/4 [==============================] - 0s 42ms/step\n",
      "R2 Score:  0.9988546748003959\n"
     ]
    }
   ],
   "source": [
    "from sklearn.metrics import r2_score\n",
    "\n",
    "predicted_results = model.predict(test_data)\n",
    "\n",
    "r2 = r2_score(test_target, predicted_results)\n",
    "print('R2 Score: ',r2)"
   ]
  },
  {
   "cell_type": "markdown",
   "id": "df040050",
   "metadata": {},
   "source": [
    "inverse transformed predicted values vs actual values"
   ]
  },
  {
   "cell_type": "code",
   "execution_count": 225,
   "id": "824381e1",
   "metadata": {},
   "outputs": [
    {
     "name": "stdout",
     "output_type": "stream",
     "text": [
      "Actual inverse_transform:  [ 9750.0993915   8931.64158994 32379.0394215   9848.90700176\n",
      " 18133.59750991 17515.91518148 10321.72941307 33239.41225958\n",
      " 17033.49502985 16824.80327737]\n",
      "Predicted_inverse_transform:  [ 9330.52   9389.367 31236.625  9886.814 18546.387 17396.105 10564.063\n",
      " 32673.799 16897.324 16850.627]\n"
     ]
    }
   ],
   "source": [
    "print('Actual inverse_transform: ',scaler_target.inverse_transform(test_target[:10]).T[0])\n",
    "print('Predicted_inverse_transform: ',scaler_target.inverse_transform(predicted_results[0:10]).T[0])"
   ]
  },
  {
   "cell_type": "markdown",
   "id": "5bc8eef5",
   "metadata": {},
   "source": [
    "getting prediction"
   ]
  },
  {
   "cell_type": "code",
   "execution_count": 228,
   "id": "50668761",
   "metadata": {},
   "outputs": [
    {
     "name": "stdout",
     "output_type": "stream",
     "text": [
      "1/1 [==============================] - 0s 86ms/step\n",
      "Predicted price will be:  32718.357\n"
     ]
    }
   ],
   "source": [
    "my_test_data = [3,3.830297,32,1000,12.28036,2.641903]\n",
    "my_test_data = scaler_data.transform([my_test_data])\n",
    "\n",
    "result = model.predict(my_test_data)\n",
    "\n",
    "predicted_value = scaler_target.inverse_transform(result)\n",
    "\n",
    "print('Predicted price will be: ',predicted_value[0][0])"
   ]
  },
  {
   "cell_type": "markdown",
   "id": "acb9687f",
   "metadata": {},
   "source": [
    "saving scaler models"
   ]
  },
  {
   "cell_type": "code",
   "execution_count": 216,
   "id": "361903d2",
   "metadata": {},
   "outputs": [
    {
     "data": {
      "text/plain": [
       "['scaler_target.sav']"
      ]
     },
     "execution_count": 216,
     "metadata": {},
     "output_type": "execute_result"
    }
   ],
   "source": [
    "import joblib\n",
    "joblib.dump(scaler_data, 'models/scaler_data.sav')\n",
    "joblib.dump(scaler_target, 'models/scaler_target.sav')"
   ]
  }
 ],
 "metadata": {
  "kernelspec": {
   "display_name": "Python 3 (ipykernel)",
   "language": "python",
   "name": "python3"
  },
  "language_info": {
   "codemirror_mode": {
    "name": "ipython",
    "version": 3
   },
   "file_extension": ".py",
   "mimetype": "text/x-python",
   "name": "python",
   "nbconvert_exporter": "python",
   "pygments_lexer": "ipython3",
   "version": "3.11.5"
  }
 },
 "nbformat": 4,
 "nbformat_minor": 5
}
